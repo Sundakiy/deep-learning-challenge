{
  "cells": [
    {
      "cell_type": "markdown",
      "metadata": {
        "id": "Sq9D_L9jLGTC"
      },
      "source": [
        "## Preprocessing"
      ]
    },
    {
      "cell_type": "code",
      "execution_count": 32,
      "metadata": {
        "colab": {
          "base_uri": "https://localhost:8080/",
          "height": 531
        },
        "id": "QXRxT_gLLGTE",
        "outputId": "0b89735b-b0d6-40b6-e7a4-2d9e57bbcc30"
      },
      "outputs": [
        {
          "output_type": "stream",
          "name": "stdout",
          "text": [
            "Looking in indexes: https://pypi.org/simple, https://us-python.pkg.dev/colab-wheels/public/simple/\n",
            "Requirement already satisfied: keras in /usr/local/lib/python3.9/dist-packages (2.12.0)\n"
          ]
        },
        {
          "output_type": "execute_result",
          "data": {
            "text/plain": [
              "        EIN                                      NAME APPLICATION_TYPE  \\\n",
              "0  10520599              BLUE KNIGHTS MOTORCYCLE CLUB              T10   \n",
              "1  10531628    AMERICAN CHESAPEAKE CLUB CHARITABLE TR               T3   \n",
              "2  10547893        ST CLOUD PROFESSIONAL FIREFIGHTERS               T5   \n",
              "3  10553066            SOUTHSIDE ATHLETIC ASSOCIATION               T3   \n",
              "4  10556103  GENETIC RESEARCH INSTITUTE OF THE DESERT               T3   \n",
              "\n",
              "        AFFILIATION CLASSIFICATION      USE_CASE  ORGANIZATION  STATUS  \\\n",
              "0       Independent          C1000    ProductDev   Association       1   \n",
              "1       Independent          C2000  Preservation  Co-operative       1   \n",
              "2  CompanySponsored          C3000    ProductDev   Association       1   \n",
              "3  CompanySponsored          C2000  Preservation         Trust       1   \n",
              "4       Independent          C1000     Heathcare         Trust       1   \n",
              "\n",
              "      INCOME_AMT SPECIAL_CONSIDERATIONS  ASK_AMT  IS_SUCCESSFUL  \n",
              "0              0                      N     5000              1  \n",
              "1         1-9999                      N   108590              1  \n",
              "2              0                      N     5000              0  \n",
              "3    10000-24999                      N     6692              1  \n",
              "4  100000-499999                      N   142590              1  "
            ],
            "text/html": [
              "\n",
              "  <div id=\"df-56b6a0cd-4000-4ad5-a108-c2cbf76df20a\">\n",
              "    <div class=\"colab-df-container\">\n",
              "      <div>\n",
              "<style scoped>\n",
              "    .dataframe tbody tr th:only-of-type {\n",
              "        vertical-align: middle;\n",
              "    }\n",
              "\n",
              "    .dataframe tbody tr th {\n",
              "        vertical-align: top;\n",
              "    }\n",
              "\n",
              "    .dataframe thead th {\n",
              "        text-align: right;\n",
              "    }\n",
              "</style>\n",
              "<table border=\"1\" class=\"dataframe\">\n",
              "  <thead>\n",
              "    <tr style=\"text-align: right;\">\n",
              "      <th></th>\n",
              "      <th>EIN</th>\n",
              "      <th>NAME</th>\n",
              "      <th>APPLICATION_TYPE</th>\n",
              "      <th>AFFILIATION</th>\n",
              "      <th>CLASSIFICATION</th>\n",
              "      <th>USE_CASE</th>\n",
              "      <th>ORGANIZATION</th>\n",
              "      <th>STATUS</th>\n",
              "      <th>INCOME_AMT</th>\n",
              "      <th>SPECIAL_CONSIDERATIONS</th>\n",
              "      <th>ASK_AMT</th>\n",
              "      <th>IS_SUCCESSFUL</th>\n",
              "    </tr>\n",
              "  </thead>\n",
              "  <tbody>\n",
              "    <tr>\n",
              "      <th>0</th>\n",
              "      <td>10520599</td>\n",
              "      <td>BLUE KNIGHTS MOTORCYCLE CLUB</td>\n",
              "      <td>T10</td>\n",
              "      <td>Independent</td>\n",
              "      <td>C1000</td>\n",
              "      <td>ProductDev</td>\n",
              "      <td>Association</td>\n",
              "      <td>1</td>\n",
              "      <td>0</td>\n",
              "      <td>N</td>\n",
              "      <td>5000</td>\n",
              "      <td>1</td>\n",
              "    </tr>\n",
              "    <tr>\n",
              "      <th>1</th>\n",
              "      <td>10531628</td>\n",
              "      <td>AMERICAN CHESAPEAKE CLUB CHARITABLE TR</td>\n",
              "      <td>T3</td>\n",
              "      <td>Independent</td>\n",
              "      <td>C2000</td>\n",
              "      <td>Preservation</td>\n",
              "      <td>Co-operative</td>\n",
              "      <td>1</td>\n",
              "      <td>1-9999</td>\n",
              "      <td>N</td>\n",
              "      <td>108590</td>\n",
              "      <td>1</td>\n",
              "    </tr>\n",
              "    <tr>\n",
              "      <th>2</th>\n",
              "      <td>10547893</td>\n",
              "      <td>ST CLOUD PROFESSIONAL FIREFIGHTERS</td>\n",
              "      <td>T5</td>\n",
              "      <td>CompanySponsored</td>\n",
              "      <td>C3000</td>\n",
              "      <td>ProductDev</td>\n",
              "      <td>Association</td>\n",
              "      <td>1</td>\n",
              "      <td>0</td>\n",
              "      <td>N</td>\n",
              "      <td>5000</td>\n",
              "      <td>0</td>\n",
              "    </tr>\n",
              "    <tr>\n",
              "      <th>3</th>\n",
              "      <td>10553066</td>\n",
              "      <td>SOUTHSIDE ATHLETIC ASSOCIATION</td>\n",
              "      <td>T3</td>\n",
              "      <td>CompanySponsored</td>\n",
              "      <td>C2000</td>\n",
              "      <td>Preservation</td>\n",
              "      <td>Trust</td>\n",
              "      <td>1</td>\n",
              "      <td>10000-24999</td>\n",
              "      <td>N</td>\n",
              "      <td>6692</td>\n",
              "      <td>1</td>\n",
              "    </tr>\n",
              "    <tr>\n",
              "      <th>4</th>\n",
              "      <td>10556103</td>\n",
              "      <td>GENETIC RESEARCH INSTITUTE OF THE DESERT</td>\n",
              "      <td>T3</td>\n",
              "      <td>Independent</td>\n",
              "      <td>C1000</td>\n",
              "      <td>Heathcare</td>\n",
              "      <td>Trust</td>\n",
              "      <td>1</td>\n",
              "      <td>100000-499999</td>\n",
              "      <td>N</td>\n",
              "      <td>142590</td>\n",
              "      <td>1</td>\n",
              "    </tr>\n",
              "  </tbody>\n",
              "</table>\n",
              "</div>\n",
              "      <button class=\"colab-df-convert\" onclick=\"convertToInteractive('df-56b6a0cd-4000-4ad5-a108-c2cbf76df20a')\"\n",
              "              title=\"Convert this dataframe to an interactive table.\"\n",
              "              style=\"display:none;\">\n",
              "        \n",
              "  <svg xmlns=\"http://www.w3.org/2000/svg\" height=\"24px\"viewBox=\"0 0 24 24\"\n",
              "       width=\"24px\">\n",
              "    <path d=\"M0 0h24v24H0V0z\" fill=\"none\"/>\n",
              "    <path d=\"M18.56 5.44l.94 2.06.94-2.06 2.06-.94-2.06-.94-.94-2.06-.94 2.06-2.06.94zm-11 1L8.5 8.5l.94-2.06 2.06-.94-2.06-.94L8.5 2.5l-.94 2.06-2.06.94zm10 10l.94 2.06.94-2.06 2.06-.94-2.06-.94-.94-2.06-.94 2.06-2.06.94z\"/><path d=\"M17.41 7.96l-1.37-1.37c-.4-.4-.92-.59-1.43-.59-.52 0-1.04.2-1.43.59L10.3 9.45l-7.72 7.72c-.78.78-.78 2.05 0 2.83L4 21.41c.39.39.9.59 1.41.59.51 0 1.02-.2 1.41-.59l7.78-7.78 2.81-2.81c.8-.78.8-2.07 0-2.86zM5.41 20L4 18.59l7.72-7.72 1.47 1.35L5.41 20z\"/>\n",
              "  </svg>\n",
              "      </button>\n",
              "      \n",
              "  <style>\n",
              "    .colab-df-container {\n",
              "      display:flex;\n",
              "      flex-wrap:wrap;\n",
              "      gap: 12px;\n",
              "    }\n",
              "\n",
              "    .colab-df-convert {\n",
              "      background-color: #E8F0FE;\n",
              "      border: none;\n",
              "      border-radius: 50%;\n",
              "      cursor: pointer;\n",
              "      display: none;\n",
              "      fill: #1967D2;\n",
              "      height: 32px;\n",
              "      padding: 0 0 0 0;\n",
              "      width: 32px;\n",
              "    }\n",
              "\n",
              "    .colab-df-convert:hover {\n",
              "      background-color: #E2EBFA;\n",
              "      box-shadow: 0px 1px 2px rgba(60, 64, 67, 0.3), 0px 1px 3px 1px rgba(60, 64, 67, 0.15);\n",
              "      fill: #174EA6;\n",
              "    }\n",
              "\n",
              "    [theme=dark] .colab-df-convert {\n",
              "      background-color: #3B4455;\n",
              "      fill: #D2E3FC;\n",
              "    }\n",
              "\n",
              "    [theme=dark] .colab-df-convert:hover {\n",
              "      background-color: #434B5C;\n",
              "      box-shadow: 0px 1px 3px 1px rgba(0, 0, 0, 0.15);\n",
              "      filter: drop-shadow(0px 1px 2px rgba(0, 0, 0, 0.3));\n",
              "      fill: #FFFFFF;\n",
              "    }\n",
              "  </style>\n",
              "\n",
              "      <script>\n",
              "        const buttonEl =\n",
              "          document.querySelector('#df-56b6a0cd-4000-4ad5-a108-c2cbf76df20a button.colab-df-convert');\n",
              "        buttonEl.style.display =\n",
              "          google.colab.kernel.accessAllowed ? 'block' : 'none';\n",
              "\n",
              "        async function convertToInteractive(key) {\n",
              "          const element = document.querySelector('#df-56b6a0cd-4000-4ad5-a108-c2cbf76df20a');\n",
              "          const dataTable =\n",
              "            await google.colab.kernel.invokeFunction('convertToInteractive',\n",
              "                                                     [key], {});\n",
              "          if (!dataTable) return;\n",
              "\n",
              "          const docLinkHtml = 'Like what you see? Visit the ' +\n",
              "            '<a target=\"_blank\" href=https://colab.research.google.com/notebooks/data_table.ipynb>data table notebook</a>'\n",
              "            + ' to learn more about interactive tables.';\n",
              "          element.innerHTML = '';\n",
              "          dataTable['output_type'] = 'display_data';\n",
              "          await google.colab.output.renderOutput(dataTable, element);\n",
              "          const docLink = document.createElement('div');\n",
              "          docLink.innerHTML = docLinkHtml;\n",
              "          element.appendChild(docLink);\n",
              "        }\n",
              "      </script>\n",
              "    </div>\n",
              "  </div>\n",
              "  "
            ]
          },
          "metadata": {},
          "execution_count": 32
        }
      ],
      "source": [
        "!pip install keras\n",
        "# Import our dependencies\n",
        "from sklearn.model_selection import train_test_split\n",
        "from sklearn.preprocessing import StandardScaler\n",
        "import pandas as pd\n",
        "import tensorflow as tf\n",
        "from google.colab import files\n",
        "import os\n",
        "from tensorflow.keras.callbacks import ModelCheckpoint\n",
        "#  Import and read the charity_data.csv.\n",
        "import pandas as pd \n",
        "application_df = pd.read_csv(\"https://static.bc-edx.com/data/dl-1-2/m21/lms/starter/charity_data.csv\")\n",
        "application_df.head()"
      ]
    },
    {
      "cell_type": "code",
      "execution_count": 33,
      "metadata": {
        "colab": {
          "base_uri": "https://localhost:8080/"
        },
        "id": "p3PND7rpLGTG",
        "outputId": "c3b86a64-0fdd-4ede-8feb-5168cafdf258"
      },
      "outputs": [
        {
          "output_type": "execute_result",
          "data": {
            "text/plain": [
              "Index(['EIN', 'NAME', 'APPLICATION_TYPE', 'AFFILIATION', 'CLASSIFICATION',\n",
              "       'USE_CASE', 'ORGANIZATION', 'STATUS', 'INCOME_AMT',\n",
              "       'SPECIAL_CONSIDERATIONS', 'ASK_AMT', 'IS_SUCCESSFUL'],\n",
              "      dtype='object')"
            ]
          },
          "metadata": {},
          "execution_count": 33
        }
      ],
      "source": [
        "# Check the columns headers.\n",
        "application_df.columns\n"
      ]
    },
    {
      "cell_type": "code",
      "source": [
        "# Drop the non-beneficial ID columns, 'EIN' and 'NAME'.\n",
        "application_df = application_df.drop(columns = ['EIN', 'NAME'])"
      ],
      "metadata": {
        "id": "dL1wnfhPLkPf"
      },
      "execution_count": 34,
      "outputs": []
    },
    {
      "cell_type": "code",
      "execution_count": 35,
      "metadata": {
        "colab": {
          "base_uri": "https://localhost:8080/"
        },
        "id": "828_nrc8LGTH",
        "outputId": "347db6a4-1e2d-43bc-c69e-ab02c7558f33"
      },
      "outputs": [
        {
          "output_type": "execute_result",
          "data": {
            "text/plain": [
              "APPLICATION_TYPE            17\n",
              "AFFILIATION                  6\n",
              "CLASSIFICATION              71\n",
              "USE_CASE                     5\n",
              "ORGANIZATION                 4\n",
              "STATUS                       2\n",
              "INCOME_AMT                   9\n",
              "SPECIAL_CONSIDERATIONS       2\n",
              "ASK_AMT                   8747\n",
              "IS_SUCCESSFUL                2\n",
              "dtype: int64"
            ]
          },
          "metadata": {},
          "execution_count": 35
        }
      ],
      "source": [
        "# Determine the number of unique values in each column.\n",
        "application_df.nunique()"
      ]
    },
    {
      "cell_type": "code",
      "execution_count": 36,
      "metadata": {
        "colab": {
          "base_uri": "https://localhost:8080/"
        },
        "id": "G-PAYkHWLGTH",
        "outputId": "727a7b7e-912c-4824-a680-d20e90cc2bd3"
      },
      "outputs": [
        {
          "output_type": "execute_result",
          "data": {
            "text/plain": [
              "T3     27037\n",
              "T4      1542\n",
              "T6      1216\n",
              "T5      1173\n",
              "T19     1065\n",
              "T8       737\n",
              "T7       725\n",
              "T10      528\n",
              "T9       156\n",
              "T13       66\n",
              "T12       27\n",
              "T2        16\n",
              "T25        3\n",
              "T14        3\n",
              "T29        2\n",
              "T15        2\n",
              "T17        1\n",
              "Name: APPLICATION_TYPE, dtype: int64"
            ]
          },
          "metadata": {},
          "execution_count": 36
        }
      ],
      "source": [
        "# Look at APPLICATION_TYPE value counts for binning\n",
        "app_type_counts = application_df.APPLICATION_TYPE.value_counts()\n",
        "app_type_counts"
      ]
    },
    {
      "cell_type": "code",
      "execution_count": 37,
      "metadata": {
        "colab": {
          "base_uri": "https://localhost:8080/"
        },
        "id": "urjhzexRLGTH",
        "outputId": "04fb2d17-abbd-44c6-e6ec-311953594354"
      },
      "outputs": [
        {
          "output_type": "execute_result",
          "data": {
            "text/plain": [
              "['T9', 'T13', 'T12', 'T2', 'T25', 'T14', 'T29', 'T15', 'T17']"
            ]
          },
          "metadata": {},
          "execution_count": 37
        }
      ],
      "source": [
        "# Choose a cutoff value and create a list of application types to be replaced\n",
        "# use the variable name `application_types_to_replace`\n",
        "application_types_to_replace=list(app_type_counts[app_type_counts<500].index)\n",
        "application_types_to_replace"
      ]
    },
    {
      "cell_type": "code",
      "source": [
        "\n",
        "# Replace in dataframe\n",
        "for app in application_types_to_replace:\n",
        "    application_df['APPLICATION_TYPE'] = application_df['APPLICATION_TYPE'].replace(app,\"Other\")\n",
        "\n",
        "# Check to make sure binning was successful\n",
        "application_df['APPLICATION_TYPE'].value_counts()"
      ],
      "metadata": {
        "colab": {
          "base_uri": "https://localhost:8080/"
        },
        "id": "-dvgy1jbMet0",
        "outputId": "f1fa76ef-ec79-43af-fc2b-223a0008bde2"
      },
      "execution_count": 38,
      "outputs": [
        {
          "output_type": "execute_result",
          "data": {
            "text/plain": [
              "T3       27037\n",
              "T4        1542\n",
              "T6        1216\n",
              "T5        1173\n",
              "T19       1065\n",
              "T8         737\n",
              "T7         725\n",
              "T10        528\n",
              "Other      276\n",
              "Name: APPLICATION_TYPE, dtype: int64"
            ]
          },
          "metadata": {},
          "execution_count": 38
        }
      ]
    },
    {
      "cell_type": "code",
      "execution_count": 39,
      "metadata": {
        "colab": {
          "base_uri": "https://localhost:8080/"
        },
        "id": "i-R9b5VILGTI",
        "outputId": "17ec5f9b-8436-4034-803b-3bfb562eff71"
      },
      "outputs": [
        {
          "output_type": "execute_result",
          "data": {
            "text/plain": [
              "C1000    17326\n",
              "C2000     6074\n",
              "C1200     4837\n",
              "C3000     1918\n",
              "C2100     1883\n",
              "         ...  \n",
              "C4120        1\n",
              "C8210        1\n",
              "C2561        1\n",
              "C4500        1\n",
              "C2150        1\n",
              "Name: CLASSIFICATION, Length: 71, dtype: int64"
            ]
          },
          "metadata": {},
          "execution_count": 39
        }
      ],
      "source": [
        "# Look at CLASSIFICATION value counts for binning\n",
        "class_counts = application_df.CLASSIFICATION.value_counts()\n",
        "class_counts"
      ]
    },
    {
      "cell_type": "code",
      "execution_count": 40,
      "metadata": {
        "colab": {
          "base_uri": "https://localhost:8080/"
        },
        "id": "-weIGQZDLGTI",
        "outputId": "f9048e48-e2c7-4729-bfc5-54e1ed982d79"
      },
      "outputs": [
        {
          "output_type": "execute_result",
          "data": {
            "text/plain": [
              "C1000    17326\n",
              "C2000     6074\n",
              "C1200     4837\n",
              "C3000     1918\n",
              "C2100     1883\n",
              "C7000      777\n",
              "C1700      287\n",
              "C4000      194\n",
              "C5000      116\n",
              "C1270      114\n",
              "C2700      104\n",
              "C2800       95\n",
              "C7100       75\n",
              "C1300       58\n",
              "C1280       50\n",
              "C1230       36\n",
              "C1400       34\n",
              "C7200       32\n",
              "C2300       32\n",
              "C1240       30\n",
              "C8000       20\n",
              "C7120       18\n",
              "C1500       16\n",
              "C1800       15\n",
              "C6000       15\n",
              "C1250       14\n",
              "C8200       11\n",
              "C1238       10\n",
              "C1278       10\n",
              "C1235        9\n",
              "C1237        9\n",
              "C7210        7\n",
              "C2400        6\n",
              "C1720        6\n",
              "C4100        6\n",
              "C1257        5\n",
              "C1600        5\n",
              "C1260        3\n",
              "C2710        3\n",
              "C0           3\n",
              "C3200        2\n",
              "C1234        2\n",
              "C1246        2\n",
              "C1267        2\n",
              "C1256        2\n",
              "Name: CLASSIFICATION, dtype: int64"
            ]
          },
          "metadata": {},
          "execution_count": 40
        }
      ],
      "source": [
        "# You may find it helpful to look at CLASSIFICATION value counts >1\n",
        "classification_value_count = class_counts [class_counts >1]\n",
        "classification_value_count "
      ]
    },
    {
      "cell_type": "code",
      "execution_count": 41,
      "metadata": {
        "colab": {
          "base_uri": "https://localhost:8080/"
        },
        "id": "3runNmHSLGTI",
        "outputId": "41ed2bb5-60b0-44a9-bab9-a0a51322c1f9"
      },
      "outputs": [
        {
          "output_type": "execute_result",
          "data": {
            "text/plain": [
              "C1000    17326\n",
              "C2000     6074\n",
              "C1200     4837\n",
              "C3000     1918\n",
              "C2100     1883\n",
              "Name: CLASSIFICATION, dtype: int64"
            ]
          },
          "metadata": {},
          "execution_count": 41
        }
      ],
      "source": [
        "# Choose a cutoff value and create a list of classifications to be replaced\n",
        "# use the variable name `classifications_to_replace`\n",
        "classifications_to_replace = list (class_counts[class_counts<100].index)\n",
        "\n",
        "# Replace in dataframe\n",
        "for cls in classifications_to_replace:\n",
        "    application_df['CLASSIFICATION'] = application_df['CLASSIFICATION'].replace(cls,\"Other\")\n",
        "    \n",
        "# Check to make sure binning was successful\n",
        "application_df['CLASSIFICATION'].value_counts().head()"
      ]
    },
    {
      "cell_type": "code",
      "execution_count": 42,
      "metadata": {
        "colab": {
          "base_uri": "https://localhost:8080/",
          "height": 317
        },
        "id": "wBjajgopLGTJ",
        "outputId": "c8d0ef17-154d-4dbb-c844-0c9deaa61a57"
      },
      "outputs": [
        {
          "output_type": "execute_result",
          "data": {
            "text/plain": [
              "   STATUS  ASK_AMT  IS_SUCCESSFUL  APPLICATION_TYPE_Other  \\\n",
              "0       1     5000              1                     0.0   \n",
              "1       1   108590              1                     0.0   \n",
              "2       1     5000              0                     0.0   \n",
              "3       1     6692              1                     0.0   \n",
              "4       1   142590              1                     0.0   \n",
              "\n",
              "   APPLICATION_TYPE_T10  APPLICATION_TYPE_T19  APPLICATION_TYPE_T3  \\\n",
              "0                   1.0                   0.0                  0.0   \n",
              "1                   0.0                   0.0                  1.0   \n",
              "2                   0.0                   0.0                  0.0   \n",
              "3                   0.0                   0.0                  1.0   \n",
              "4                   0.0                   0.0                  1.0   \n",
              "\n",
              "   APPLICATION_TYPE_T4  APPLICATION_TYPE_T5  APPLICATION_TYPE_T6  ...  \\\n",
              "0                  0.0                  0.0                  0.0  ...   \n",
              "1                  0.0                  0.0                  0.0  ...   \n",
              "2                  0.0                  1.0                  0.0  ...   \n",
              "3                  0.0                  0.0                  0.0  ...   \n",
              "4                  0.0                  0.0                  0.0  ...   \n",
              "\n",
              "   INCOME_AMT_1-9999  INCOME_AMT_10000-24999  INCOME_AMT_100000-499999  \\\n",
              "0                0.0                     0.0                       0.0   \n",
              "1                1.0                     0.0                       0.0   \n",
              "2                0.0                     0.0                       0.0   \n",
              "3                0.0                     1.0                       0.0   \n",
              "4                0.0                     0.0                       1.0   \n",
              "\n",
              "   INCOME_AMT_10M-50M  INCOME_AMT_1M-5M  INCOME_AMT_25000-99999  \\\n",
              "0                 0.0               0.0                     0.0   \n",
              "1                 0.0               0.0                     0.0   \n",
              "2                 0.0               0.0                     0.0   \n",
              "3                 0.0               0.0                     0.0   \n",
              "4                 0.0               0.0                     0.0   \n",
              "\n",
              "   INCOME_AMT_50M+  INCOME_AMT_5M-10M  SPECIAL_CONSIDERATIONS_N  \\\n",
              "0              0.0                0.0                       1.0   \n",
              "1              0.0                0.0                       1.0   \n",
              "2              0.0                0.0                       1.0   \n",
              "3              0.0                0.0                       1.0   \n",
              "4              0.0                0.0                       1.0   \n",
              "\n",
              "   SPECIAL_CONSIDERATIONS_Y  \n",
              "0                       0.0  \n",
              "1                       0.0  \n",
              "2                       0.0  \n",
              "3                       0.0  \n",
              "4                       0.0  \n",
              "\n",
              "[5 rows x 50 columns]"
            ],
            "text/html": [
              "\n",
              "  <div id=\"df-a059f82c-c143-44d4-9540-769df7b9543d\">\n",
              "    <div class=\"colab-df-container\">\n",
              "      <div>\n",
              "<style scoped>\n",
              "    .dataframe tbody tr th:only-of-type {\n",
              "        vertical-align: middle;\n",
              "    }\n",
              "\n",
              "    .dataframe tbody tr th {\n",
              "        vertical-align: top;\n",
              "    }\n",
              "\n",
              "    .dataframe thead th {\n",
              "        text-align: right;\n",
              "    }\n",
              "</style>\n",
              "<table border=\"1\" class=\"dataframe\">\n",
              "  <thead>\n",
              "    <tr style=\"text-align: right;\">\n",
              "      <th></th>\n",
              "      <th>STATUS</th>\n",
              "      <th>ASK_AMT</th>\n",
              "      <th>IS_SUCCESSFUL</th>\n",
              "      <th>APPLICATION_TYPE_Other</th>\n",
              "      <th>APPLICATION_TYPE_T10</th>\n",
              "      <th>APPLICATION_TYPE_T19</th>\n",
              "      <th>APPLICATION_TYPE_T3</th>\n",
              "      <th>APPLICATION_TYPE_T4</th>\n",
              "      <th>APPLICATION_TYPE_T5</th>\n",
              "      <th>APPLICATION_TYPE_T6</th>\n",
              "      <th>...</th>\n",
              "      <th>INCOME_AMT_1-9999</th>\n",
              "      <th>INCOME_AMT_10000-24999</th>\n",
              "      <th>INCOME_AMT_100000-499999</th>\n",
              "      <th>INCOME_AMT_10M-50M</th>\n",
              "      <th>INCOME_AMT_1M-5M</th>\n",
              "      <th>INCOME_AMT_25000-99999</th>\n",
              "      <th>INCOME_AMT_50M+</th>\n",
              "      <th>INCOME_AMT_5M-10M</th>\n",
              "      <th>SPECIAL_CONSIDERATIONS_N</th>\n",
              "      <th>SPECIAL_CONSIDERATIONS_Y</th>\n",
              "    </tr>\n",
              "  </thead>\n",
              "  <tbody>\n",
              "    <tr>\n",
              "      <th>0</th>\n",
              "      <td>1</td>\n",
              "      <td>5000</td>\n",
              "      <td>1</td>\n",
              "      <td>0.0</td>\n",
              "      <td>1.0</td>\n",
              "      <td>0.0</td>\n",
              "      <td>0.0</td>\n",
              "      <td>0.0</td>\n",
              "      <td>0.0</td>\n",
              "      <td>0.0</td>\n",
              "      <td>...</td>\n",
              "      <td>0.0</td>\n",
              "      <td>0.0</td>\n",
              "      <td>0.0</td>\n",
              "      <td>0.0</td>\n",
              "      <td>0.0</td>\n",
              "      <td>0.0</td>\n",
              "      <td>0.0</td>\n",
              "      <td>0.0</td>\n",
              "      <td>1.0</td>\n",
              "      <td>0.0</td>\n",
              "    </tr>\n",
              "    <tr>\n",
              "      <th>1</th>\n",
              "      <td>1</td>\n",
              "      <td>108590</td>\n",
              "      <td>1</td>\n",
              "      <td>0.0</td>\n",
              "      <td>0.0</td>\n",
              "      <td>0.0</td>\n",
              "      <td>1.0</td>\n",
              "      <td>0.0</td>\n",
              "      <td>0.0</td>\n",
              "      <td>0.0</td>\n",
              "      <td>...</td>\n",
              "      <td>1.0</td>\n",
              "      <td>0.0</td>\n",
              "      <td>0.0</td>\n",
              "      <td>0.0</td>\n",
              "      <td>0.0</td>\n",
              "      <td>0.0</td>\n",
              "      <td>0.0</td>\n",
              "      <td>0.0</td>\n",
              "      <td>1.0</td>\n",
              "      <td>0.0</td>\n",
              "    </tr>\n",
              "    <tr>\n",
              "      <th>2</th>\n",
              "      <td>1</td>\n",
              "      <td>5000</td>\n",
              "      <td>0</td>\n",
              "      <td>0.0</td>\n",
              "      <td>0.0</td>\n",
              "      <td>0.0</td>\n",
              "      <td>0.0</td>\n",
              "      <td>0.0</td>\n",
              "      <td>1.0</td>\n",
              "      <td>0.0</td>\n",
              "      <td>...</td>\n",
              "      <td>0.0</td>\n",
              "      <td>0.0</td>\n",
              "      <td>0.0</td>\n",
              "      <td>0.0</td>\n",
              "      <td>0.0</td>\n",
              "      <td>0.0</td>\n",
              "      <td>0.0</td>\n",
              "      <td>0.0</td>\n",
              "      <td>1.0</td>\n",
              "      <td>0.0</td>\n",
              "    </tr>\n",
              "    <tr>\n",
              "      <th>3</th>\n",
              "      <td>1</td>\n",
              "      <td>6692</td>\n",
              "      <td>1</td>\n",
              "      <td>0.0</td>\n",
              "      <td>0.0</td>\n",
              "      <td>0.0</td>\n",
              "      <td>1.0</td>\n",
              "      <td>0.0</td>\n",
              "      <td>0.0</td>\n",
              "      <td>0.0</td>\n",
              "      <td>...</td>\n",
              "      <td>0.0</td>\n",
              "      <td>1.0</td>\n",
              "      <td>0.0</td>\n",
              "      <td>0.0</td>\n",
              "      <td>0.0</td>\n",
              "      <td>0.0</td>\n",
              "      <td>0.0</td>\n",
              "      <td>0.0</td>\n",
              "      <td>1.0</td>\n",
              "      <td>0.0</td>\n",
              "    </tr>\n",
              "    <tr>\n",
              "      <th>4</th>\n",
              "      <td>1</td>\n",
              "      <td>142590</td>\n",
              "      <td>1</td>\n",
              "      <td>0.0</td>\n",
              "      <td>0.0</td>\n",
              "      <td>0.0</td>\n",
              "      <td>1.0</td>\n",
              "      <td>0.0</td>\n",
              "      <td>0.0</td>\n",
              "      <td>0.0</td>\n",
              "      <td>...</td>\n",
              "      <td>0.0</td>\n",
              "      <td>0.0</td>\n",
              "      <td>1.0</td>\n",
              "      <td>0.0</td>\n",
              "      <td>0.0</td>\n",
              "      <td>0.0</td>\n",
              "      <td>0.0</td>\n",
              "      <td>0.0</td>\n",
              "      <td>1.0</td>\n",
              "      <td>0.0</td>\n",
              "    </tr>\n",
              "  </tbody>\n",
              "</table>\n",
              "<p>5 rows × 50 columns</p>\n",
              "</div>\n",
              "      <button class=\"colab-df-convert\" onclick=\"convertToInteractive('df-a059f82c-c143-44d4-9540-769df7b9543d')\"\n",
              "              title=\"Convert this dataframe to an interactive table.\"\n",
              "              style=\"display:none;\">\n",
              "        \n",
              "  <svg xmlns=\"http://www.w3.org/2000/svg\" height=\"24px\"viewBox=\"0 0 24 24\"\n",
              "       width=\"24px\">\n",
              "    <path d=\"M0 0h24v24H0V0z\" fill=\"none\"/>\n",
              "    <path d=\"M18.56 5.44l.94 2.06.94-2.06 2.06-.94-2.06-.94-.94-2.06-.94 2.06-2.06.94zm-11 1L8.5 8.5l.94-2.06 2.06-.94-2.06-.94L8.5 2.5l-.94 2.06-2.06.94zm10 10l.94 2.06.94-2.06 2.06-.94-2.06-.94-.94-2.06-.94 2.06-2.06.94z\"/><path d=\"M17.41 7.96l-1.37-1.37c-.4-.4-.92-.59-1.43-.59-.52 0-1.04.2-1.43.59L10.3 9.45l-7.72 7.72c-.78.78-.78 2.05 0 2.83L4 21.41c.39.39.9.59 1.41.59.51 0 1.02-.2 1.41-.59l7.78-7.78 2.81-2.81c.8-.78.8-2.07 0-2.86zM5.41 20L4 18.59l7.72-7.72 1.47 1.35L5.41 20z\"/>\n",
              "  </svg>\n",
              "      </button>\n",
              "      \n",
              "  <style>\n",
              "    .colab-df-container {\n",
              "      display:flex;\n",
              "      flex-wrap:wrap;\n",
              "      gap: 12px;\n",
              "    }\n",
              "\n",
              "    .colab-df-convert {\n",
              "      background-color: #E8F0FE;\n",
              "      border: none;\n",
              "      border-radius: 50%;\n",
              "      cursor: pointer;\n",
              "      display: none;\n",
              "      fill: #1967D2;\n",
              "      height: 32px;\n",
              "      padding: 0 0 0 0;\n",
              "      width: 32px;\n",
              "    }\n",
              "\n",
              "    .colab-df-convert:hover {\n",
              "      background-color: #E2EBFA;\n",
              "      box-shadow: 0px 1px 2px rgba(60, 64, 67, 0.3), 0px 1px 3px 1px rgba(60, 64, 67, 0.15);\n",
              "      fill: #174EA6;\n",
              "    }\n",
              "\n",
              "    [theme=dark] .colab-df-convert {\n",
              "      background-color: #3B4455;\n",
              "      fill: #D2E3FC;\n",
              "    }\n",
              "\n",
              "    [theme=dark] .colab-df-convert:hover {\n",
              "      background-color: #434B5C;\n",
              "      box-shadow: 0px 1px 3px 1px rgba(0, 0, 0, 0.15);\n",
              "      filter: drop-shadow(0px 1px 2px rgba(0, 0, 0, 0.3));\n",
              "      fill: #FFFFFF;\n",
              "    }\n",
              "  </style>\n",
              "\n",
              "      <script>\n",
              "        const buttonEl =\n",
              "          document.querySelector('#df-a059f82c-c143-44d4-9540-769df7b9543d button.colab-df-convert');\n",
              "        buttonEl.style.display =\n",
              "          google.colab.kernel.accessAllowed ? 'block' : 'none';\n",
              "\n",
              "        async function convertToInteractive(key) {\n",
              "          const element = document.querySelector('#df-a059f82c-c143-44d4-9540-769df7b9543d');\n",
              "          const dataTable =\n",
              "            await google.colab.kernel.invokeFunction('convertToInteractive',\n",
              "                                                     [key], {});\n",
              "          if (!dataTable) return;\n",
              "\n",
              "          const docLinkHtml = 'Like what you see? Visit the ' +\n",
              "            '<a target=\"_blank\" href=https://colab.research.google.com/notebooks/data_table.ipynb>data table notebook</a>'\n",
              "            + ' to learn more about interactive tables.';\n",
              "          element.innerHTML = '';\n",
              "          dataTable['output_type'] = 'display_data';\n",
              "          await google.colab.output.renderOutput(dataTable, element);\n",
              "          const docLink = document.createElement('div');\n",
              "          docLink.innerHTML = docLinkHtml;\n",
              "          element.appendChild(docLink);\n",
              "        }\n",
              "      </script>\n",
              "    </div>\n",
              "  </div>\n",
              "  "
            ]
          },
          "metadata": {},
          "execution_count": 42
        }
      ],
      "source": [
        "# Convert categorical data to numeric with `pd.get_dummies`\n",
        "application_df = pd.get_dummies(application_df,dtype=float)\n",
        "application_df.head()"
      ]
    },
    {
      "cell_type": "code",
      "execution_count": 43,
      "metadata": {
        "colab": {
          "base_uri": "https://localhost:8080/"
        },
        "id": "sssC1MicLGTJ",
        "outputId": "e1daeb48-dc2f-434c-b096-6eea795e1d58"
      },
      "outputs": [
        {
          "output_type": "execute_result",
          "data": {
            "text/plain": [
              "array([1, 1, 0, ..., 0, 1, 0])"
            ]
          },
          "metadata": {},
          "execution_count": 43
        }
      ],
      "source": [
        "# Split our preprocessed data into our features and target arrays\n",
        "y = application_df['IS_SUCCESSFUL'].values\n",
        "y"
      ]
    },
    {
      "cell_type": "code",
      "source": [
        "\n",
        "# Split the preprocessed data into a training and testing dataset\n",
        "# Take out \"IS_SUCCESSFUL\"\n",
        "X = application_df.drop('IS_SUCCESSFUL', axis=1).values\n",
        "X\n"
      ],
      "metadata": {
        "colab": {
          "base_uri": "https://localhost:8080/"
        },
        "id": "KHGoUEsONdz-",
        "outputId": "ad8e9b46-00d9-49d9-beaf-74a34ca63083"
      },
      "execution_count": 44,
      "outputs": [
        {
          "output_type": "execute_result",
          "data": {
            "text/plain": [
              "array([[1.0000000e+00, 5.0000000e+03, 0.0000000e+00, ..., 0.0000000e+00,\n",
              "        1.0000000e+00, 0.0000000e+00],\n",
              "       [1.0000000e+00, 1.0859000e+05, 0.0000000e+00, ..., 0.0000000e+00,\n",
              "        1.0000000e+00, 0.0000000e+00],\n",
              "       [1.0000000e+00, 5.0000000e+03, 0.0000000e+00, ..., 0.0000000e+00,\n",
              "        1.0000000e+00, 0.0000000e+00],\n",
              "       ...,\n",
              "       [1.0000000e+00, 5.0000000e+03, 0.0000000e+00, ..., 0.0000000e+00,\n",
              "        1.0000000e+00, 0.0000000e+00],\n",
              "       [1.0000000e+00, 5.0000000e+03, 0.0000000e+00, ..., 0.0000000e+00,\n",
              "        1.0000000e+00, 0.0000000e+00],\n",
              "       [1.0000000e+00, 3.6500179e+07, 0.0000000e+00, ..., 0.0000000e+00,\n",
              "        1.0000000e+00, 0.0000000e+00]])"
            ]
          },
          "metadata": {},
          "execution_count": 44
        }
      ]
    },
    {
      "cell_type": "code",
      "source": [
        "# Split the preprocessed data into a training and testing dataset\n",
        "X_train, X_test, y_train, y_test = train_test_split(X,y,random_state = 42)"
      ],
      "metadata": {
        "id": "nOTQ4LavNlAv"
      },
      "execution_count": 45,
      "outputs": []
    },
    {
      "cell_type": "code",
      "execution_count": 46,
      "metadata": {
        "id": "XEkEgvrELGTJ"
      },
      "outputs": [],
      "source": [
        "# Create a StandardScaler instances\n",
        "scaler = StandardScaler()\n",
        "\n",
        "# Fit the StandardScaler\n",
        "X_scaler = scaler.fit(X_train)\n",
        "\n",
        "# Scale the data\n",
        "X_train_scaled = X_scaler.transform(X_train)\n",
        "X_test_scaled = X_scaler.transform(X_test)"
      ]
    },
    {
      "cell_type": "markdown",
      "metadata": {
        "id": "gxV67anfLGTK"
      },
      "source": [
        "## Compile, Train and Evaluate the Model"
      ]
    },
    {
      "cell_type": "code",
      "execution_count": 49,
      "metadata": {
        "colab": {
          "base_uri": "https://localhost:8080/"
        },
        "id": "RyEa_GMHLGTK",
        "outputId": "f5a3621f-cc37-474c-917a-eaf2f7d35bee"
      },
      "outputs": [
        {
          "output_type": "stream",
          "name": "stdout",
          "text": [
            "Model: \"sequential_4\"\n",
            "_________________________________________________________________\n",
            " Layer (type)                Output Shape              Param #   \n",
            "=================================================================\n",
            " dense_12 (Dense)            (None, 80)                4000      \n",
            "                                                                 \n",
            " dense_13 (Dense)            (None, 30)                2430      \n",
            "                                                                 \n",
            " dense_14 (Dense)            (None, 1)                 31        \n",
            "                                                                 \n",
            "=================================================================\n",
            "Total params: 6,461\n",
            "Trainable params: 6,461\n",
            "Non-trainable params: 0\n",
            "_________________________________________________________________\n"
          ]
        }
      ],
      "source": [
        "# Define the model - deep neural net, i.e., the number of input features and hidden nodes for each layer.\n",
        "number_input_features = len( X_train_scaled[0])\n",
        "hidden_nodes_layer1=80\n",
        "hidden_nodes_layer2=30\n",
        "\n",
        "nn = tf.keras.models.Sequential()\n",
        "\n",
        "# First hidden layer\n",
        "nn.add(tf.keras.layers.Dense(units=hidden_nodes_layer1, input_dim=number_input_features, activation='relu'))\n",
        "\n",
        "# Second hidden layer\n",
        "nn.add(tf.keras.layers.Dense(units=hidden_nodes_layer2, activation='relu'))\n",
        "\n",
        "# Output layer\n",
        "nn.add(tf.keras.layers.Dense(units=1, activation='sigmoid'))\n",
        "\n",
        "# Check the structure of the model\n",
        "nn.summary()"
      ]
    },
    {
      "cell_type": "code",
      "execution_count": 50,
      "metadata": {
        "id": "rY2gxgv5LGTK"
      },
      "outputs": [],
      "source": [
        "# Compile the model\n",
        "nn.compile(loss = 'binary_crossentropy', optimizer = 'adam', metrics=['accuracy'])"
      ]
    },
    {
      "cell_type": "code",
      "execution_count": 51,
      "metadata": {
        "colab": {
          "base_uri": "https://localhost:8080/"
        },
        "id": "cBzhv8M6LGTL",
        "outputId": "ba32b993-7c4c-4364-9078-0ed6bc1cff52"
      },
      "outputs": [
        {
          "output_type": "stream",
          "name": "stdout",
          "text": [
            "Epoch 1/100\n",
            "684/684 [==============================] - 3s 3ms/step - loss: 0.5759 - accuracy: 0.7174 - val_loss: 0.5544 - val_accuracy: 0.7349\n",
            "Epoch 2/100\n",
            "684/684 [==============================] - 2s 2ms/step - loss: 0.5572 - accuracy: 0.7271 - val_loss: 0.5478 - val_accuracy: 0.7297\n",
            "Epoch 3/100\n",
            "684/684 [==============================] - 2s 3ms/step - loss: 0.5530 - accuracy: 0.7277 - val_loss: 0.5483 - val_accuracy: 0.7326\n",
            "Epoch 4/100\n",
            "684/684 [==============================] - 2s 2ms/step - loss: 0.5506 - accuracy: 0.7284 - val_loss: 0.5442 - val_accuracy: 0.7378\n",
            "Epoch 5/100\n",
            "684/684 [==============================] - 1s 2ms/step - loss: 0.5495 - accuracy: 0.7288 - val_loss: 0.5485 - val_accuracy: 0.7302\n",
            "Epoch 6/100\n",
            "684/684 [==============================] - 3s 4ms/step - loss: 0.5490 - accuracy: 0.7299 - val_loss: 0.5448 - val_accuracy: 0.7378\n",
            "Epoch 7/100\n",
            "684/684 [==============================] - 2s 3ms/step - loss: 0.5475 - accuracy: 0.7298 - val_loss: 0.5433 - val_accuracy: 0.7367\n",
            "Epoch 8/100\n",
            "684/684 [==============================] - 2s 2ms/step - loss: 0.5467 - accuracy: 0.7313 - val_loss: 0.5420 - val_accuracy: 0.7336\n",
            "Epoch 9/100\n",
            "684/684 [==============================] - 2s 3ms/step - loss: 0.5453 - accuracy: 0.7318 - val_loss: 0.5424 - val_accuracy: 0.7357\n",
            "Epoch 10/100\n",
            "684/684 [==============================] - 2s 2ms/step - loss: 0.5448 - accuracy: 0.7329 - val_loss: 0.5442 - val_accuracy: 0.7341\n",
            "Epoch 11/100\n",
            "684/684 [==============================] - 2s 2ms/step - loss: 0.5448 - accuracy: 0.7322 - val_loss: 0.5404 - val_accuracy: 0.7365\n",
            "Epoch 12/100\n",
            "684/684 [==============================] - 2s 2ms/step - loss: 0.5440 - accuracy: 0.7333 - val_loss: 0.5467 - val_accuracy: 0.7349\n",
            "Epoch 13/100\n",
            "684/684 [==============================] - 2s 3ms/step - loss: 0.5440 - accuracy: 0.7329 - val_loss: 0.5416 - val_accuracy: 0.7378\n",
            "Epoch 14/100\n",
            "684/684 [==============================] - 2s 3ms/step - loss: 0.5436 - accuracy: 0.7326 - val_loss: 0.5412 - val_accuracy: 0.7362\n",
            "Epoch 15/100\n",
            "684/684 [==============================] - 2s 2ms/step - loss: 0.5427 - accuracy: 0.7330 - val_loss: 0.5410 - val_accuracy: 0.7372\n",
            "Epoch 16/100\n",
            "684/684 [==============================] - 2s 3ms/step - loss: 0.5428 - accuracy: 0.7351 - val_loss: 0.5399 - val_accuracy: 0.7370\n",
            "Epoch 17/100\n",
            "684/684 [==============================] - 2s 3ms/step - loss: 0.5419 - accuracy: 0.7335 - val_loss: 0.5420 - val_accuracy: 0.7383\n",
            "Epoch 18/100\n",
            "684/684 [==============================] - 2s 2ms/step - loss: 0.5416 - accuracy: 0.7342 - val_loss: 0.5399 - val_accuracy: 0.7359\n",
            "Epoch 19/100\n",
            "684/684 [==============================] - 2s 2ms/step - loss: 0.5417 - accuracy: 0.7346 - val_loss: 0.5415 - val_accuracy: 0.7359\n",
            "Epoch 20/100\n",
            "684/684 [==============================] - 2s 3ms/step - loss: 0.5409 - accuracy: 0.7366 - val_loss: 0.5432 - val_accuracy: 0.7357\n",
            "Epoch 21/100\n",
            "684/684 [==============================] - 2s 3ms/step - loss: 0.5404 - accuracy: 0.7358 - val_loss: 0.5445 - val_accuracy: 0.7339\n",
            "Epoch 22/100\n",
            "684/684 [==============================] - 2s 3ms/step - loss: 0.5408 - accuracy: 0.7352 - val_loss: 0.5419 - val_accuracy: 0.7334\n",
            "Epoch 23/100\n",
            "684/684 [==============================] - 2s 2ms/step - loss: 0.5402 - accuracy: 0.7374 - val_loss: 0.5435 - val_accuracy: 0.7380\n",
            "Epoch 24/100\n",
            "684/684 [==============================] - 2s 2ms/step - loss: 0.5401 - accuracy: 0.7360 - val_loss: 0.5405 - val_accuracy: 0.7388\n",
            "Epoch 25/100\n",
            "684/684 [==============================] - 2s 2ms/step - loss: 0.5398 - accuracy: 0.7357 - val_loss: 0.5419 - val_accuracy: 0.7354\n",
            "Epoch 26/100\n",
            "684/684 [==============================] - 2s 2ms/step - loss: 0.5392 - accuracy: 0.7357 - val_loss: 0.5426 - val_accuracy: 0.7354\n",
            "Epoch 27/100\n",
            "684/684 [==============================] - 2s 3ms/step - loss: 0.5398 - accuracy: 0.7363 - val_loss: 0.5418 - val_accuracy: 0.7331\n",
            "Epoch 28/100\n",
            "684/684 [==============================] - 2s 3ms/step - loss: 0.5392 - accuracy: 0.7362 - val_loss: 0.5442 - val_accuracy: 0.7359\n",
            "Epoch 29/100\n",
            "684/684 [==============================] - 2s 2ms/step - loss: 0.5391 - accuracy: 0.7368 - val_loss: 0.5465 - val_accuracy: 0.7310\n",
            "Epoch 30/100\n",
            "684/684 [==============================] - 2s 2ms/step - loss: 0.5386 - accuracy: 0.7373 - val_loss: 0.5400 - val_accuracy: 0.7339\n",
            "Epoch 31/100\n",
            "684/684 [==============================] - 2s 2ms/step - loss: 0.5388 - accuracy: 0.7363 - val_loss: 0.5424 - val_accuracy: 0.7331\n",
            "Epoch 32/100\n",
            "684/684 [==============================] - 2s 3ms/step - loss: 0.5386 - accuracy: 0.7383 - val_loss: 0.5420 - val_accuracy: 0.7346\n",
            "Epoch 33/100\n",
            "684/684 [==============================] - 2s 3ms/step - loss: 0.5389 - accuracy: 0.7373 - val_loss: 0.5421 - val_accuracy: 0.7336\n",
            "Epoch 34/100\n",
            "684/684 [==============================] - 2s 4ms/step - loss: 0.5381 - accuracy: 0.7360 - val_loss: 0.5404 - val_accuracy: 0.7357\n",
            "Epoch 35/100\n",
            "684/684 [==============================] - 2s 3ms/step - loss: 0.5376 - accuracy: 0.7373 - val_loss: 0.5420 - val_accuracy: 0.7380\n",
            "Epoch 36/100\n",
            "684/684 [==============================] - 1s 2ms/step - loss: 0.5374 - accuracy: 0.7366 - val_loss: 0.5433 - val_accuracy: 0.7365\n",
            "Epoch 37/100\n",
            "684/684 [==============================] - 2s 2ms/step - loss: 0.5378 - accuracy: 0.7373 - val_loss: 0.5401 - val_accuracy: 0.7362\n",
            "Epoch 38/100\n",
            "684/684 [==============================] - 2s 3ms/step - loss: 0.5370 - accuracy: 0.7382 - val_loss: 0.5421 - val_accuracy: 0.7352\n",
            "Epoch 39/100\n",
            "684/684 [==============================] - 2s 3ms/step - loss: 0.5367 - accuracy: 0.7372 - val_loss: 0.5438 - val_accuracy: 0.7367\n",
            "Epoch 40/100\n",
            "684/684 [==============================] - 2s 2ms/step - loss: 0.5369 - accuracy: 0.7380 - val_loss: 0.5434 - val_accuracy: 0.7380\n",
            "Epoch 41/100\n",
            "684/684 [==============================] - 3s 4ms/step - loss: 0.5369 - accuracy: 0.7380 - val_loss: 0.5415 - val_accuracy: 0.7357\n",
            "Epoch 42/100\n",
            "684/684 [==============================] - 2s 3ms/step - loss: 0.5368 - accuracy: 0.7392 - val_loss: 0.5468 - val_accuracy: 0.7352\n",
            "Epoch 43/100\n",
            "684/684 [==============================] - 2s 3ms/step - loss: 0.5371 - accuracy: 0.7368 - val_loss: 0.5426 - val_accuracy: 0.7352\n",
            "Epoch 44/100\n",
            "684/684 [==============================] - 2s 2ms/step - loss: 0.5361 - accuracy: 0.7378 - val_loss: 0.5414 - val_accuracy: 0.7359\n",
            "Epoch 45/100\n",
            "684/684 [==============================] - 2s 2ms/step - loss: 0.5366 - accuracy: 0.7375 - val_loss: 0.5438 - val_accuracy: 0.7357\n",
            "Epoch 46/100\n",
            "684/684 [==============================] - 2s 2ms/step - loss: 0.5361 - accuracy: 0.7376 - val_loss: 0.5424 - val_accuracy: 0.7362\n",
            "Epoch 47/100\n",
            "684/684 [==============================] - 2s 2ms/step - loss: 0.5360 - accuracy: 0.7383 - val_loss: 0.5425 - val_accuracy: 0.7349\n",
            "Epoch 48/100\n",
            "684/684 [==============================] - 2s 3ms/step - loss: 0.5359 - accuracy: 0.7380 - val_loss: 0.5409 - val_accuracy: 0.7339\n",
            "Epoch 49/100\n",
            "684/684 [==============================] - 2s 3ms/step - loss: 0.5355 - accuracy: 0.7378 - val_loss: 0.5445 - val_accuracy: 0.7346\n",
            "Epoch 50/100\n",
            "684/684 [==============================] - 2s 3ms/step - loss: 0.5356 - accuracy: 0.7389 - val_loss: 0.5431 - val_accuracy: 0.7357\n",
            "Epoch 51/100\n",
            "684/684 [==============================] - 2s 2ms/step - loss: 0.5357 - accuracy: 0.7386 - val_loss: 0.5444 - val_accuracy: 0.7334\n",
            "Epoch 52/100\n",
            "684/684 [==============================] - 2s 3ms/step - loss: 0.5351 - accuracy: 0.7389 - val_loss: 0.5461 - val_accuracy: 0.7336\n",
            "Epoch 53/100\n",
            "684/684 [==============================] - 2s 3ms/step - loss: 0.5350 - accuracy: 0.7390 - val_loss: 0.5426 - val_accuracy: 0.7349\n",
            "Epoch 54/100\n",
            "684/684 [==============================] - 2s 2ms/step - loss: 0.5350 - accuracy: 0.7383 - val_loss: 0.5429 - val_accuracy: 0.7362\n",
            "Epoch 55/100\n",
            "684/684 [==============================] - 2s 3ms/step - loss: 0.5346 - accuracy: 0.7391 - val_loss: 0.5429 - val_accuracy: 0.7362\n",
            "Epoch 56/100\n",
            "684/684 [==============================] - 2s 3ms/step - loss: 0.5349 - accuracy: 0.7379 - val_loss: 0.5453 - val_accuracy: 0.7359\n",
            "Epoch 57/100\n",
            "684/684 [==============================] - 2s 2ms/step - loss: 0.5349 - accuracy: 0.7387 - val_loss: 0.5442 - val_accuracy: 0.7391\n",
            "Epoch 58/100\n",
            "684/684 [==============================] - 2s 2ms/step - loss: 0.5347 - accuracy: 0.7385 - val_loss: 0.5431 - val_accuracy: 0.7362\n",
            "Epoch 59/100\n",
            "684/684 [==============================] - 2s 2ms/step - loss: 0.5342 - accuracy: 0.7384 - val_loss: 0.5466 - val_accuracy: 0.7380\n",
            "Epoch 60/100\n",
            "684/684 [==============================] - 2s 2ms/step - loss: 0.5345 - accuracy: 0.7399 - val_loss: 0.5442 - val_accuracy: 0.7328\n",
            "Epoch 61/100\n",
            "684/684 [==============================] - 2s 2ms/step - loss: 0.5341 - accuracy: 0.7385 - val_loss: 0.5455 - val_accuracy: 0.7383\n",
            "Epoch 62/100\n",
            "684/684 [==============================] - 2s 3ms/step - loss: 0.5344 - accuracy: 0.7401 - val_loss: 0.5439 - val_accuracy: 0.7372\n",
            "Epoch 63/100\n",
            "684/684 [==============================] - 2s 3ms/step - loss: 0.5342 - accuracy: 0.7389 - val_loss: 0.5468 - val_accuracy: 0.7362\n",
            "Epoch 64/100\n",
            "684/684 [==============================] - 2s 3ms/step - loss: 0.5345 - accuracy: 0.7380 - val_loss: 0.5442 - val_accuracy: 0.7359\n",
            "Epoch 65/100\n",
            "684/684 [==============================] - 2s 3ms/step - loss: 0.5340 - accuracy: 0.7384 - val_loss: 0.5429 - val_accuracy: 0.7365\n",
            "Epoch 66/100\n",
            "684/684 [==============================] - 2s 2ms/step - loss: 0.5338 - accuracy: 0.7397 - val_loss: 0.5454 - val_accuracy: 0.7362\n",
            "Epoch 67/100\n",
            "684/684 [==============================] - 2s 2ms/step - loss: 0.5337 - accuracy: 0.7390 - val_loss: 0.5457 - val_accuracy: 0.7357\n",
            "Epoch 68/100\n",
            "684/684 [==============================] - 2s 3ms/step - loss: 0.5341 - accuracy: 0.7389 - val_loss: 0.5442 - val_accuracy: 0.7365\n",
            "Epoch 69/100\n",
            "684/684 [==============================] - 3s 4ms/step - loss: 0.5336 - accuracy: 0.7391 - val_loss: 0.5468 - val_accuracy: 0.7357\n",
            "Epoch 70/100\n",
            "684/684 [==============================] - 2s 3ms/step - loss: 0.5334 - accuracy: 0.7391 - val_loss: 0.5482 - val_accuracy: 0.7365\n",
            "Epoch 71/100\n",
            "684/684 [==============================] - 2s 2ms/step - loss: 0.5338 - accuracy: 0.7388 - val_loss: 0.5448 - val_accuracy: 0.7357\n",
            "Epoch 72/100\n",
            "684/684 [==============================] - 2s 3ms/step - loss: 0.5332 - accuracy: 0.7391 - val_loss: 0.5475 - val_accuracy: 0.7365\n",
            "Epoch 73/100\n",
            "684/684 [==============================] - 2s 2ms/step - loss: 0.5335 - accuracy: 0.7398 - val_loss: 0.5466 - val_accuracy: 0.7349\n",
            "Epoch 74/100\n",
            "684/684 [==============================] - 2s 2ms/step - loss: 0.5338 - accuracy: 0.7393 - val_loss: 0.5460 - val_accuracy: 0.7359\n",
            "Epoch 75/100\n",
            "684/684 [==============================] - 2s 2ms/step - loss: 0.5334 - accuracy: 0.7384 - val_loss: 0.5483 - val_accuracy: 0.7352\n",
            "Epoch 76/100\n",
            "684/684 [==============================] - 2s 2ms/step - loss: 0.5329 - accuracy: 0.7389 - val_loss: 0.5443 - val_accuracy: 0.7375\n",
            "Epoch 77/100\n",
            "684/684 [==============================] - 2s 3ms/step - loss: 0.5330 - accuracy: 0.7392 - val_loss: 0.5446 - val_accuracy: 0.7346\n",
            "Epoch 78/100\n",
            "684/684 [==============================] - 2s 3ms/step - loss: 0.5333 - accuracy: 0.7395 - val_loss: 0.5474 - val_accuracy: 0.7339\n",
            "Epoch 79/100\n",
            "684/684 [==============================] - 2s 2ms/step - loss: 0.5325 - accuracy: 0.7393 - val_loss: 0.5459 - val_accuracy: 0.7289\n",
            "Epoch 80/100\n",
            "684/684 [==============================] - 2s 2ms/step - loss: 0.5331 - accuracy: 0.7397 - val_loss: 0.5481 - val_accuracy: 0.7349\n",
            "Epoch 81/100\n",
            "684/684 [==============================] - 2s 2ms/step - loss: 0.5325 - accuracy: 0.7389 - val_loss: 0.5465 - val_accuracy: 0.7378\n",
            "Epoch 82/100\n",
            "684/684 [==============================] - 2s 3ms/step - loss: 0.5337 - accuracy: 0.7398 - val_loss: 0.5452 - val_accuracy: 0.7375\n",
            "Epoch 83/100\n",
            "684/684 [==============================] - 2s 2ms/step - loss: 0.5323 - accuracy: 0.7404 - val_loss: 0.5472 - val_accuracy: 0.7383\n",
            "Epoch 84/100\n",
            "684/684 [==============================] - 3s 4ms/step - loss: 0.5325 - accuracy: 0.7392 - val_loss: 0.5475 - val_accuracy: 0.7352\n",
            "Epoch 85/100\n",
            "684/684 [==============================] - 2s 3ms/step - loss: 0.5324 - accuracy: 0.7391 - val_loss: 0.5464 - val_accuracy: 0.7354\n",
            "Epoch 86/100\n",
            "684/684 [==============================] - 2s 3ms/step - loss: 0.5326 - accuracy: 0.7400 - val_loss: 0.5468 - val_accuracy: 0.7370\n",
            "Epoch 87/100\n",
            "684/684 [==============================] - 2s 3ms/step - loss: 0.5322 - accuracy: 0.7403 - val_loss: 0.5468 - val_accuracy: 0.7359\n",
            "Epoch 88/100\n",
            "684/684 [==============================] - 2s 3ms/step - loss: 0.5324 - accuracy: 0.7394 - val_loss: 0.5482 - val_accuracy: 0.7339\n",
            "Epoch 89/100\n",
            "684/684 [==============================] - 2s 2ms/step - loss: 0.5321 - accuracy: 0.7391 - val_loss: 0.5485 - val_accuracy: 0.7362\n",
            "Epoch 90/100\n",
            "684/684 [==============================] - 2s 2ms/step - loss: 0.5324 - accuracy: 0.7399 - val_loss: 0.5480 - val_accuracy: 0.7362\n",
            "Epoch 91/100\n",
            "684/684 [==============================] - 3s 4ms/step - loss: 0.5329 - accuracy: 0.7383 - val_loss: 0.5462 - val_accuracy: 0.7354\n",
            "Epoch 92/100\n",
            "684/684 [==============================] - 2s 3ms/step - loss: 0.5318 - accuracy: 0.7411 - val_loss: 0.5502 - val_accuracy: 0.7362\n",
            "Epoch 93/100\n",
            "684/684 [==============================] - 2s 3ms/step - loss: 0.5322 - accuracy: 0.7394 - val_loss: 0.5488 - val_accuracy: 0.7359\n",
            "Epoch 94/100\n",
            "684/684 [==============================] - 2s 2ms/step - loss: 0.5324 - accuracy: 0.7394 - val_loss: 0.5472 - val_accuracy: 0.7365\n",
            "Epoch 95/100\n",
            "684/684 [==============================] - 1s 2ms/step - loss: 0.5318 - accuracy: 0.7405 - val_loss: 0.5464 - val_accuracy: 0.7383\n",
            "Epoch 96/100\n",
            "684/684 [==============================] - 2s 3ms/step - loss: 0.5324 - accuracy: 0.7384 - val_loss: 0.5467 - val_accuracy: 0.7359\n",
            "Epoch 97/100\n",
            "684/684 [==============================] - 2s 3ms/step - loss: 0.5323 - accuracy: 0.7395 - val_loss: 0.5486 - val_accuracy: 0.7378\n",
            "Epoch 98/100\n",
            "684/684 [==============================] - 2s 3ms/step - loss: 0.5320 - accuracy: 0.7402 - val_loss: 0.5475 - val_accuracy: 0.7372\n",
            "Epoch 99/100\n",
            "684/684 [==============================] - 2s 2ms/step - loss: 0.5322 - accuracy: 0.7394 - val_loss: 0.5481 - val_accuracy: 0.7378\n",
            "Epoch 100/100\n",
            "684/684 [==============================] - 2s 2ms/step - loss: 0.5316 - accuracy: 0.7395 - val_loss: 0.5478 - val_accuracy: 0.7354\n"
          ]
        }
      ],
      "source": [
        "# Train the model\n",
        "fit_model = nn.fit(X_train_scaled,y_train,validation_split=0.15, epochs=100)"
      ]
    },
    {
      "cell_type": "code",
      "execution_count": 63,
      "metadata": {
        "colab": {
          "base_uri": "https://localhost:8080/"
        },
        "id": "OkZ1jyY6LGTL",
        "outputId": "38761f96-ae05-434d-d912-4ef51d93a610"
      },
      "outputs": [
        {
          "output_type": "stream",
          "name": "stdout",
          "text": [
            "268/268 - 0s - loss: 0.5636 - accuracy: 0.7291 - 368ms/epoch - 1ms/step\n",
            "Loss: 0.5635536313056946, Accuracy: 0.7290962338447571\n"
          ]
        }
      ],
      "source": [
        "# Evaluate the model using the test data\n",
        "model_loss, model_accuracy = nn.evaluate(X_test_scaled,y_test,verbose=2)\n",
        "print(f\"Loss: {model_loss}, Accuracy: {model_accuracy}\")"
      ]
    },
    {
      "cell_type": "code",
      "source": [
        "# Create a callback that saves the model's weights every five epochs\n",
        "# Define checkpoints variables\n",
        "\n",
        "\n",
        "os.makedirs('checkpoints/', exist_ok=True)\n",
        "checkpoint_path= 'checkpoints/weights.{epoch}.hdf5'\n",
        "\n",
        "# Create callback \n",
        "cp_callback = ModelCheckpoint(filepath=checkpoint_path,\n",
        "                              verbose=1,\n",
        "                              save_weights_only=True,\n",
        "                              save_freq=5)\n",
        "\n",
        "cp_callback"
      ],
      "metadata": {
        "colab": {
          "base_uri": "https://localhost:8080/"
        },
        "id": "Y66-aDw2zOi7",
        "outputId": "2dc43f14-1917-4c56-ffd9-a351a7d8fb57"
      },
      "execution_count": 62,
      "outputs": [
        {
          "output_type": "execute_result",
          "data": {
            "text/plain": [
              "<keras.callbacks.ModelCheckpoint at 0x7f35f1b7d6a0>"
            ]
          },
          "metadata": {},
          "execution_count": 62
        }
      ]
    },
    {
      "cell_type": "code",
      "source": [
        "# Create a DataFrame containing training history of the 1st model\n",
        "history_df = pd.DataFrame(fit_model.history)\n",
        "\n",
        "# Increase the index by 1 to match the number of epochs\n",
        "history_df.index += 1\n",
        "\n",
        "# Plot the loss\n",
        "history_df.plot(y='loss')\n",
        "\n",
        "# Plot the accuracy\n",
        "history_df.plot(y='accuracy')"
      ],
      "metadata": {
        "colab": {
          "base_uri": "https://localhost:8080/",
          "height": 860
        },
        "id": "aQS4yuMAwHf1",
        "outputId": "d2e5d079-5c8d-420c-f6db-6e486a6f8efe"
      },
      "execution_count": 64,
      "outputs": [
        {
          "output_type": "execute_result",
          "data": {
            "text/plain": [
              "<Axes: >"
            ]
          },
          "metadata": {},
          "execution_count": 64
        },
        {
          "output_type": "display_data",
          "data": {
            "text/plain": [
              "<Figure size 640x480 with 1 Axes>"
            ],
            "image/png": "[encoded data removed]"
          },
          "metadata": {}
        },
        {
          "output_type": "display_data",
          "data": {
            "text/plain": [
              "<Figure size 640x480 with 1 Axes>"
            ],
            "image/png": "[encoded data removed]"
          },
          "metadata": {}
        }
      ]
    },
    {
      "cell_type": "code",
      "execution_count": 65,
      "metadata": {
        "colab": {
          "base_uri": "https://localhost:8080/",
          "height": 17
        },
        "id": "6sPSbJ1wLGTM",
        "outputId": "cdb33f4c-5c7e-48b8-c4c7-abda110bc654"
      },
      "outputs": [
        {
          "output_type": "display_data",
          "data": {
            "text/plain": [
              "<IPython.core.display.Javascript object>"
            ],
            "application/javascript": [
              "\n",
              "    async function download(id, filename, size) {\n",
              "      if (!google.colab.kernel.accessAllowed) {\n",
              "        return;\n",
              "      }\n",
              "      const div = document.createElement('div');\n",
              "      const label = document.createElement('label');\n",
              "      label.textContent = `Downloading \"${filename}\": `;\n",
              "      div.appendChild(label);\n",
              "      const progress = document.createElement('progress');\n",
              "      progress.max = size;\n",
              "      div.appendChild(progress);\n",
              "      document.body.appendChild(div);\n",
              "\n",
              "      const buffers = [];\n",
              "      let downloaded = 0;\n",
              "\n",
              "      const channel = await google.colab.kernel.comms.open(id);\n",
              "      // Send a message to notify the kernel that we're ready.\n",
              "      channel.send({})\n",
              "\n",
              "      for await (const message of channel.messages) {\n",
              "        // Send a message to notify the kernel that we're ready.\n",
              "        channel.send({})\n",
              "        if (message.buffers) {\n",
              "          for (const buffer of message.buffers) {\n",
              "            buffers.push(buffer);\n",
              "            downloaded += buffer.byteLength;\n",
              "            progress.value = downloaded;\n",
              "          }\n",
              "        }\n",
              "      }\n",
              "      const blob = new Blob(buffers, {type: 'application/binary'});\n",
              "      const a = document.createElement('a');\n",
              "      a.href = window.URL.createObjectURL(blob);\n",
              "      a.download = filename;\n",
              "      div.appendChild(a);\n",
              "      a.click();\n",
              "      div.remove();\n",
              "    }\n",
              "  "
            ]
          },
          "metadata": {}
        },
        {
          "output_type": "display_data",
          "data": {
            "text/plain": [
              "<IPython.core.display.Javascript object>"
            ],
            "application/javascript": [
              "download(\"download_9da48b74-aa0c-4c4d-aaf0-c40194060fd6\", \"AlphabetSoupCharity.h5\", 108248)"
            ]
          },
          "metadata": {}
        }
      ],
      "source": [
        "# Export our model to HDF5 file\n",
        "nn.save('/content/AlphabetSoupCharity.h5')\n",
        "files.download('/content/AlphabetSoupCharity.h5')"
      ]
    }
  ],
  "metadata": {
    "kernelspec": {
      "display_name": "Python 3",
      "language": "python",
      "name": "python3"
    },
    "language_info": {
      "codemirror_mode": {
        "name": "ipython",
        "version": 3
      },
      "file_extension": ".py",
      "mimetype": "text/x-python",
      "name": "python",
      "nbconvert_exporter": "python",
      "pygments_lexer": "ipython3",
      "version": "3.-1.-1"
    },
    "vscode": {
      "interpreter": {
        "hash": "31f2aee4e71d21fbe5cf8b01ff0e069b9275f58929596ceb00d14d90e3e16cd6"
      }
    },
    "colab": {
      "provenance": []
    }
  },
  "nbformat": 4,
  "nbformat_minor": 0
}